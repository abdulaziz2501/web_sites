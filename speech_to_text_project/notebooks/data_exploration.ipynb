{
 "cells": [
  {
   "cell_type": "markdown",
   "metadata": {},
   "source": [
    "# Speech-to-Text: Ma'lumotlarni O'rganish\n",
    "\n",
    "Bu notebook Parquet fayldagi ma'lumotlarni o'rganish uchun"
   ]
  },
  {
   "cell_type": "code",
   "execution_count": null,
   "metadata": {},
   "outputs": [],
   "source": [
    "# Kerakli kutubxonalarni import qilish\n",
    "import pandas as pd\n",
    "import numpy as np\n",
    "import librosa\n",
    "import librosa.display\n",
    "import matplotlib.pyplot as plt\n",
    "import seaborn as sns\n",
    "from pathlib import Path\n",
    "import warnings\n",
    "warnings.filterwarnings('ignore')\n",
    "\n",
    "# Konfiguratsiyani yuklash\n",
    "import sys\n",
    "sys.path.append('..')\n",
    "from config import RAW_DATA_DIR, DataConfig\n",
    "\n",
    "print(\"✓ Kutubxonalar yuklandi\")"
   ]
  },
  {
   "cell_type": "markdown",
   "metadata": {},
   "source": [
    "## 1. Parquet Faylni Yuklash"
   ]
  },
  {
   "cell_type": "code",
   "execution_count": null,
   "metadata": {},
   "outputs": [],
   "source": [
    "# Parquet faylni yuklash\n",
    "parquet_path = RAW_DATA_DIR / DataConfig.PARQUET_FILE\n",
    "\n",
    "print(f\"Fayl yo'li: {parquet_path}\")\n",
    "print(f\"Fayl mavjudmi: {parquet_path.exists()}\")\n",
    "\n",
    "if parquet_path.exists():\n",
    "    df = pd.read_parquet(parquet_path)\n",
    "    print(f\"\\n✓ Ma'lumotlar yuklandi\")\n",
    "    print(f\"Qatorlar soni: {len(df)}\")\n",
    "    print(f\"Ustunlar: {list(df.columns)}\")\n",
    "else:\n",
    "    print(\"\\n❌ Parquet fayl topilmadi!\")"
   ]
  },
  {
   "cell_type": "markdown",
   "metadata": {},
   "source": [
    "## 2. Ma'lumotlar Strukturasi"
   ]
  },
  {
   "cell_type": "code",
   "execution_count": null,
   "metadata": {},
   "outputs": [],
   "source": [
    "# DataFrame info\n",
    "print(\"=\" * 60)\n",
    "print(\"DATAFRAME MA'LUMOTLARI\")\n",
    "print(\"=\" * 60)\n",
    "df.info()\n",
    "\n",
    "print(\"\\n\" + \"=\" * 60)\n",
    "print(\"BIRINCHI 5 TA QATOR\")\n",
    "print(\"=\" * 60)\n",
    "df.head()"
   ]
  },
  {
   "cell_type": "markdown",
   "metadata": {},
   "source": [
    "## 3. Matn Tahlili"
   ]
  },
  {
   "cell_type": "code",
   "execution_count": null,
   "metadata": {},
   "outputs": [],
   "source": [
    "# Matn ustuni\n",
    "text_column = DataConfig.TEXT_COLUMN\n",
    "\n",
    "# Matn uzunliklari\n",
    "df['text_length'] = df[text_column].str.len()\n",
    "df['word_count'] = df[text_column].str.split().str.len()\n",
    "\n",
    "print(\"=\" * 60)\n",
    "print(\"MATN STATISTIKASI\")\n",
    "print(\"=\" * 60)\n",
    "print(f\"\\nMatn uzunligi (belgilar):\")\n",
    "print(df['text_length'].describe())\n",
    "\n",
    "print(f\"\\nSo'zlar soni:\")\n",
    "print(df['word_count'].describe())"
   ]
  },
  {
   "cell_type": "code",
   "execution_count": null,
   "metadata": {},
   "outputs": [],
   "source": [
    "# Matn uzunligi grafigi\n",
    "fig, axes = plt.subplots(1, 2, figsize=(15, 5))\n",
    "\n",
    "# Matn uzunligi\n",
    "axes[0].hist(df['text_length'], bins=50, edgecolor='black')\n",
    "axes[0].set_title('Matn Uzunligi Taqsimoti (Belgilar)', fontsize=14)\n",
    "axes[0].set_xlabel('Belgilar soni')\n",
    "axes[0].set_ylabel('Chastota')\n",
    "axes[0].grid(alpha=0.3)\n",
    "\n",
    "# So'zlar soni\n",
    "axes[1].hist(df['word_count'], bins=50, edgecolor='black', color='green')\n",
    "axes[1].set_title(\"So'zlar Soni Taqsimoti\", fontsize=14)\n",
    "axes[1].set_xlabel(\"So'zlar soni\")\n",
    "axes[1].set_ylabel('Chastota')\n",
    "axes[1].grid(alpha=0.3)\n",
    "\n",
    "plt.tight_layout()\n",
    "plt.show()"
   ]
  },
  {
   "cell_type": "markdown",
   "metadata": {},
   "source": [
    "## 4. Audio Tahlili"
   ]
  },
  {
   "cell_type": "code",
   "execution_count": null,
   "metadata": {},
   "outputs": [],
   "source": [
    "# Audio ustuni\n",
    "audio_column = DataConfig.AUDIO_COLUMN\n",
    "\n",
    "print(\"=\" * 60)\n",
    "print(\"AUDIO MA'LUMOTLARI\")\n",
    "print(\"=\" * 60)\n",
    "\n",
    "# Audio turi\n",
    "sample_audio = df[audio_column].iloc[0]\n",
    "print(f\"\\nAudio turi: {type(sample_audio)}\")\n",
    "\n",
    "if isinstance(sample_audio, str):\n",
    "    print(\"Audio fayl yo'li sifatida saqlangan\")\n",
    "elif isinstance(sample_audio, bytes):\n",
    "    print(\"Audio bytes sifatida saqlangan\")\n",
    "else:\n",
    "    print(f\"Noma'lum format: {type(sample_audio)}\")"
   ]
  },
  {
   "cell_type": "code",
   "execution_count": null,
   "metadata": {},
   "outputs": [],
   "source": [
    "# Bitta audio faylni yuklash va vizualizatsiya qilish\n",
    "def load_and_visualize_audio(audio_path_or_bytes, index=0):\n",
    "    \"\"\"\n",
    "    Audio faylni yuklash va vizualizatsiya qilish\n",
    "    \"\"\"\n",
    "    try:\n",
    "        # Audio yuklash\n",
    "        if isinstance(audio_path_or_bytes, str):\n",
    "            audio, sr = librosa.load(audio_path_or_bytes, sr=16000)\n",
    "        elif isinstance(audio_path_or_bytes, bytes):\n",
    "            import io\n",
    "            import soundfile as sf\n",
    "            audio, sr = sf.read(io.BytesIO(audio_path_or_bytes))\n",
    "        else:\n",
    "            print(f\"Noma'lum audio format: {type(audio_path_or_bytes)}\")\n",
    "            return\n",
    "        \n",
    "        # Visualizatsiya\n",
    "        fig, axes = plt.subplots(3, 1, figsize=(15, 10))\n",
    "        \n",
    "        # 1. Waveform\n",
    "        librosa.display.waveshow(audio, sr=sr, ax=axes[0])\n",
    "        axes[0].set_title(f'Audio Waveform (Sample #{index})', fontsize=14)\n",
    "        axes[0].set_xlabel('Vaqt (s)')\n",
    "        axes[0].set_ylabel('Amplituda')\n",
    "        \n",
    "        # 2. Spectrogram\n",
    "        D = librosa.amplitude_to_db(np.abs(librosa.stft(audio)), ref=np.max)\n",
    "        img = librosa.display.specshow(D, sr=sr, x_axis='time', y_axis='hz', ax=axes[1])\n",
    "        axes[1].set_title('Spectrogram', fontsize=14)\n",
    "        fig.colorbar(img, ax=axes[1], format='%+2.0f dB')\n",
    "        \n",
    "        # 3. Mel Spectrogram\n",
    "        mel_spec = librosa.feature.melspectrogram(y=audio, sr=sr)\n",
    "        mel_spec_db = librosa.amplitude_to_db(mel_spec, ref=np.max)\n",
    "        img2 = librosa.display.specshow(mel_spec_db, sr=sr, x_axis='time', y_axis='mel', ax=axes[2])\n",
    "        axes[2].set_title('Mel Spectrogram', fontsize=14)\n",
    "        fig.colorbar(img2, ax=axes[2], format='%+2.0f dB')\n",
    "        \n",
    "        plt.tight_layout()\n",
    "        plt.show()\n",
    "        \n",
    "        # Audio ma'lumotlari\n",
    "        print(f\"\\nAudio ma'lumotlari:\")\n",
    "        print(f\"  Uzunligi: {len(audio)/sr:.2f} soniya\")\n",
    "        print(f\"  Sample rate: {sr} Hz\")\n",
    "        print(f\"  Samples: {len(audio)}\")\n",
    "        \n",
    "    except Exception as e:\n",
    "        print(f\"Xato: {e}\")\n",
    "\n",
    "# Birinchi audio faylni vizualizatsiya qilish\n",
    "print(\"Birinchi audio fayl vizualizatsiyasi:\\n\")\n",
    "load_and_visualize_audio(df[audio_column].iloc[0], index=0)"
   ]
  },
  {
   "cell_type": "markdown",
   "metadata": {},
   "source": [
    "## 5. Audio va Matn Munosabati"
   ]
  },
  {
   "cell_type": "code",
   "execution_count": null,
   "metadata": {},
   "outputs": [],
   "source": [
    "# Bir nechta sample'larni ko'rsatish\n",
    "print(\"=\" * 60)\n",
    "print(\"AUDIO VA MATN MISOLLAR\")\n",
    "print(\"=\" * 60)\n",
    "\n",
    "for i in range(min(5, len(df))):\n",
    "    print(f\"\\nSample #{i+1}:\")\n",
    "    print(f\"  Matn: {df[text_column].iloc[i][:100]}...\")\n",
    "    print(f\"  Matn uzunligi: {df['text_length'].iloc[i]} belgi\")\n",
    "    print(f\"  So'zlar soni: {df['word_count'].iloc[i]}\")"
   ]
  },
  {
   "cell_type": "markdown",
   "metadata": {},
   "source": [
    "## 6. Ma'lumotlar Sifati Tekshiruvi"
   ]
  },
  {
   "cell_type": "code",
   "execution_count": null,
   "metadata": {},
   "outputs": [],
   "source": [
    "print(\"=\" * 60)\n",
    "print(\"MA'LUMOTLAR SIFATI\")\n",
    "print(\"=\" * 60)\n",
    "\n",
    "# Bo'sh qiymatlar\n",
    "print(\"\\nBo'sh qiymatlar:\")\n",
    "print(df.isnull().sum())\n",
    "\n",
    "# Dublikatlar\n",
    "print(f\"\\nDublikat qatorlar: {df.duplicated().sum()}\")\n",
    "\n",
    "# Bo'sh matnlar\n",
    "empty_texts = df[df[text_column].str.strip() == '']\n",
    "print(f\"Bo'sh matnlar: {len(empty_texts)}\")\n",
    "\n",
    "# Juda qisqa matnlar (< 3 so'z)\n",
    "short_texts = df[df['word_count'] < 3]\n",
    "print(f\"Juda qisqa matnlar (< 3 so'z): {len(short_texts)}\")\n",
    "\n",
    "# Juda uzun matnlar (> 100 so'z)\n",
    "long_texts = df[df['word_count'] > 100]\n",
    "print(f\"Juda uzun matnlar (> 100 so'z): {len(long_texts)}\")"
   ]
  },
  {
   "cell_type": "markdown",
   "metadata": {},
   "source": [
    "## 7. Xulosa va Tavsiyalar"
   ]
  },
  {
   "cell_type": "code",
   "execution_count": null,
   "metadata": {},
   "outputs": [],
   "source": [
    "print(\"=\" * 60)\n",
    "print(\"XULOSA\")\n",
    "print(\"=\" * 60)\n",
    "\n",
    "total_samples = len(df)\n",
    "clean_samples = total_samples - len(empty_texts) - len(short_texts)\n",
    "\n",
    "print(f\"\\n📊 Umumiy ma'lumotlar:\")\n",
    "print(f\"  • Jami samples: {total_samples}\")\n",
    "print(f\"  • Toza samples: {clean_samples} ({clean_samples/total_samples*100:.1f}%)\")\n",
    "print(f\"  • Muammoli samples: {total_samples - clean_samples} ({(total_samples - clean_samples)/total_samples*100:.1f}%)\")\n",
    "\n",
    "print(f\"\\n✅ TAVSIYALAR:\")\n",
    "\n",
    "if len(empty_texts) > 0:\n",
    "    print(f\"  • Bo'sh matnlarni tozalang: {len(empty_texts)} ta\")\n",
    "\n",
    "if len(short_texts) > 0:\n",
    "    print(f\"  • Juda qisqa matnlarni olib tashlang: {len(short_texts)} ta\")\n",
    "\n",
    "if df.duplicated().sum() > 0:\n",
    "    print(f\"  • Dublikatlarni olib tashlang: {df.duplicated().sum()} ta\")\n",
    "\n",
    "avg_text_length = df['text_length'].mean()\n",
    "if avg_text_length < 20:\n",
    "    print(f\"  • O'rtacha matn juda qisqa: {avg_text_length:.0f} belgi\")\n",
    "elif avg_text_length > 500:\n",
    "    print(f\"  • O'rtacha matn juda uzun: {avg_text_length:.0f} belgi\")\n",
    "\n",
    "print(f\"\\n✓ Ma'lumotlar tahlili tugadi!\")"
   ]
  }
 ],
 "metadata": {
  "kernelspec": {
   "display_name": "Python 3",
   "language": "python",
   "name": "python3"
  },
  "language_info": {
   "codemirror_mode": {
    "name": "ipython",
    "version": 3
   },
   "file_extension": ".py",
   "mimetype": "text/x-python",
   "name": "python",
   "nbconvert_exporter": "python",
   "pygments_lexer": "ipython3",
   "version": "3.8.0"
  }
 },
 "nbformat": 4,
 "nbformat_minor": 4
}
